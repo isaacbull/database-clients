{
 "cells": [
  {
   "cell_type": "markdown",
   "metadata": {},
   "source": [
    "### Import modules\n"
   ]
  },
  {
   "cell_type": "code",
   "execution_count": 24,
   "metadata": {},
   "outputs": [],
   "source": [
    "import mysql.connector as connector\n",
    "from mysql.connector import errors\n",
    "from mysql.connector.pooling import MySQLConnectionPool\n",
    "from mysql.connector import errorcode\n",
    "import datetime"
   ]
  },
  {
   "cell_type": "markdown",
   "metadata": {},
   "source": [
    "### Creating a database config file\n"
   ]
  },
  {
   "cell_type": "code",
   "execution_count": 25,
   "metadata": {},
   "outputs": [
    {
     "name": "stdout",
     "output_type": "stream",
     "text": [
      "The pool is created with the name:  pool_b\n",
      "The pool size is:  2\n"
     ]
    }
   ],
   "source": [
    "#database config file\n",
    "dbconfig = {\"database\":\"little_lemon_db\",\"user\":\"root\",\"password\":\"root@123\"}\n",
    "try:\n",
    "    pool = MySQLConnectionPool(pool_name='pool_b',pool_size=2,**dbconfig)\n",
    "    print(\"The pool is created with the name: \",pool.pool_name)\n",
    "    print(\"The pool size is: \",pool.pool_size)\n",
    "except errors.Error as e:\n",
    "    print(\"Error No: \",e.errno)\n",
    "    print(\"Error Msg: \",e.msg)"
   ]
  },
  {
   "cell_type": "code",
   "execution_count": 30,
   "metadata": {},
   "outputs": [],
   "source": [
    "#Ask user for values in bookings table\n",
    "def prompt_bookings_insert():\n",
    "    table_no = input('Enter Table No: ')\n",
    "    first_name = input('Enter First Name: ')\n",
    "    last_name = input('Enter Last Name:')\n",
    "    booking_time = input('Enter Booking Time (HH:MM:SS): ')\n",
    "    employee_id = input('Enter employee id: ')\n",
    "    return (\n",
    "        table_no,\n",
    "        first_name,\n",
    "        last_name,\n",
    "        booking_time,\n",
    "        employee_id\n",
    "    )\n"
   ]
  },
  {
   "cell_type": "code",
   "execution_count": 31,
   "metadata": {},
   "outputs": [],
   "source": [
    "#insert guest information in bookings table\n",
    "guest_add = \"\"\"\n",
    "INSERT INTO Bookings(Bookings.TableNo,Bookings.GuestFirstName,Bookings.GuestLastName,Bookings.BookingSlot,Bookings.EmployeeID) \n",
    "VALUES (%s,%s,%s,%s,%s);\n",
    "\"\"\""
   ]
  },
  {
   "cell_type": "code",
   "execution_count": 33,
   "metadata": {},
   "outputs": [
    {
     "name": "stdout",
     "output_type": "stream",
     "text": [
      "Guest 1 is connected\n",
      "Connection is closed\n",
      "Guest 2 is connected\n",
      "Connection is closed\n",
      "Guest 3 is connected\n",
      "Connection is closed\n",
      "Guest 4 is connected\n",
      "Connection is closed\n"
     ]
    }
   ],
   "source": [
    "#create guest list\n",
    "guest_list = [\"Guest 1\",\"Guest 2\",\"Guest 3\",\"Guest 4\"]\n",
    "#get the connection from pool_b\n",
    "for guest in guest_list:\n",
    "    try:\n",
    "        guest_connection = pool.get_connection()\n",
    "        print(f\"{guest} is connected\")\n",
    "    except errors.PoolError as e:\n",
    "        print(e)\n",
    "        print('Trying to get new connection... wait....')\n",
    "        connection = connector.connect(user=\"root\",password=\"root@123\")\n",
    "        guest_connection = pool.add_connection(cnx=connection)\n",
    "        print(\"A new connection is added in the pool\")\n",
    "        new_guest_user_connection = pool.get_connection()\n",
    "        print(f\"{guest} is connected\")\n",
    "    finally:\n",
    "        records = prompt_bookings_insert()\n",
    "        if guest_connection.is_connected():\n",
    "            cursor = guest_connection.cursor()\n",
    "            try:\n",
    "                cursor.execute(guest_add,records)\n",
    "                guest_connection.commit()\n",
    "            except errors.Error as e:\n",
    "                print(e)\n",
    "            finally:\n",
    "                cursor.close()\n",
    "            guest_connection.close()\n",
    "        elif new_guest_user_connection.is_connected():\n",
    "            cursor = new_guest_user_connection.cursor()\n",
    "            try:\n",
    "                cursor.execute(guest_add,records)\n",
    "                new_guest_user_connection.commit()\n",
    "            except errors.Error as e:\n",
    "                print(e)\n",
    "            finally:\n",
    "                cursor.close()\n",
    "            new_guest_user_connection.close()\n",
    "        print(\"Connection is closed\")"
   ]
  },
  {
   "cell_type": "code",
   "execution_count": 36,
   "metadata": {},
   "outputs": [
    {
     "name": "stdout",
     "output_type": "stream",
     "text": [
      "Connection established\n"
     ]
    }
   ],
   "source": [
    "try:\n",
    "    connection = connector.connect(user=\"root\",password=\"root@123\")\n",
    "    print(\"Connection established\")\n",
    "    cursor = connection.cursor()\n",
    "except errors.Error as e:\n",
    "    print('Error No: ',e.errno)\n",
    "    print('Error Msg: ',e.msg)"
   ]
  },
  {
   "cell_type": "code",
   "execution_count": 39,
   "metadata": {},
   "outputs": [],
   "source": [
    "#use database little_lemon_db\n",
    "cursor.execute(\"\"\"USE little_lemon_db;\"\"\")"
   ]
  },
  {
   "cell_type": "code",
   "execution_count": 40,
   "metadata": {},
   "outputs": [
    {
     "name": "stdout",
     "output_type": "stream",
     "text": [
      "('EmployeeID', 'Name', 'Role')\n",
      "(1, 'Mario Gollini', 'Manager')\n",
      "('Name', 'Annual_Salary')\n",
      "('Mario Gollini', '$70,000')\n",
      "('total_bookings',)\n",
      "(Decimal('6'),)\n",
      "('name', 'BookingID')\n",
      "('Anees Java', 9)\n",
      "('Bald Vin', 10)\n",
      "('Jay Kon', 11)\n"
     ]
    }
   ],
   "source": [
    "#Create a report containing the following information:\n",
    "#The name and EmployeeID of the Little Lemon manager.\n",
    "cursor.execute(\"\"\"select employees.EmployeeID,employees.Name,employees.Role from employees where lower(role) = 'manager';\"\"\")\n",
    "result = cursor.fetchall()\n",
    "print(cursor.column_names)\n",
    "for data in result:\n",
    "    print(data)\n"
   ]
  },
  {
   "cell_type": "code",
   "execution_count": 41,
   "metadata": {},
   "outputs": [
    {
     "name": "stdout",
     "output_type": "stream",
     "text": [
      "('Name', 'Annual_Salary')\n",
      "('Mario Gollini', '$70,000')\n",
      "\n"
     ]
    }
   ],
   "source": [
    "#The name and role of the employee who receives the highest salary.\n",
    "cursor.execute(\"\"\"select employees.Name,employees.Annual_Salary from employees where employees.Annual_Salary = ALL (select max(employees.Annual_Salary) from employees);\"\"\")\n",
    "result = cursor.fetchall()\n",
    "print(cursor.column_names)\n",
    "for data in result:\n",
    "    print(data)\n",
    "print()"
   ]
  },
  {
   "cell_type": "code",
   "execution_count": 42,
   "metadata": {},
   "outputs": [
    {
     "name": "stdout",
     "output_type": "stream",
     "text": [
      "('total_bookings',)\n",
      "(Decimal('6'),)\n",
      "\n"
     ]
    }
   ],
   "source": [
    "#The number of guests booked between 18:00 and 20:00.\n",
    "cursor.execute(\"\"\"with\n",
    "\tgroup_hour as (select Hour(bookings.BookingSlot) as hour,count(hour(bookings.BookingSlot)) as total_bookings from bookings where hour(bookings.BookingSlot) between '18' and '19' group by hour(bookings.BookingSlot))\n",
    "    select sum(total_bookings) as total_bookings from group_hour;\"\"\")\n",
    "result = cursor.fetchall()\n",
    "print(cursor.column_names)\n",
    "for data in result:\n",
    "    print(data)\n",
    "print()"
   ]
  },
  {
   "cell_type": "code",
   "execution_count": 44,
   "metadata": {},
   "outputs": [
    {
     "name": "stdout",
     "output_type": "stream",
     "text": [
      "('name', 'BookingID')\n",
      "('Anees Java', 9)\n",
      "('Bald Vin', 10)\n",
      "('Jay Kon', 11)\n"
     ]
    }
   ],
   "source": [
    "#The full name and BookingID of all guests waiting to be seated with the receptionist in sorted order with respect to their BookingSlot.\n",
    "cursor.execute(\"\"\"select concat(bookings.GuestFirstName,' ',bookings.GuestLastName) as name,bookings.BookingID from bookings inner join employees on bookings.EmployeeID = employees.EmployeeID where lower(employees.Role) = 'receptionist';\"\"\")\n",
    "result = cursor.fetchall()\n",
    "print(cursor.column_names)\n",
    "for data in result:\n",
    "    print(data)"
   ]
  },
  {
   "cell_type": "code",
   "execution_count": 61,
   "metadata": {},
   "outputs": [
    {
     "name": "stdout",
     "output_type": "stream",
     "text": [
      "\n",
      "TOTAL SALE: 243.00\n",
      "AVERAGE SALE: 48.60\n",
      "MIN BILL: 37.00\n",
      "MAX BILL: 86.00\n",
      " \n"
     ]
    }
   ],
   "source": [
    "#Create a stored procedure named BasicSalesReport that returns the following statistics: \n",
    "#Total sales\n",
    "#Average sale\n",
    "#Minimum bill paid\n",
    "#Maximum bill paid\n",
    "\n",
    "\n",
    "#drop procedure if exists\n",
    "cursor.execute(\"\"\"DROP PROCEDURE IF EXISTS BasicSalesReport;\"\"\")\n",
    "\n",
    "basic_sales_report = \"\"\"\n",
    "create procedure BasicSalesReport(out total_sales decimal(6,2),out average_sales decimal(6,2),out minimum_bill_paid decimal(6,2),out maximum_bill_paid decimal(6,2))\n",
    "begin\n",
    "select sum(orders.BillAmount) into total_sales from orders;\n",
    "select avg(orders.BillAmount) into average_sales from orders;\n",
    "select min(orders.BillAmount) into minimum_bill_paid from orders;\n",
    "select max(orders.BillAmount) into maximum_bill_paid from orders;\n",
    "end\n",
    "\"\"\"\n",
    "records=(0,1,2,3)\n",
    "try:\n",
    "    cursor.execute(basic_sales_report)\n",
    "    result = cursor.callproc('BasicSalesReport',records)\n",
    "    total_sales = result[0]\n",
    "    average_sales = result[1]\n",
    "    min_bill = result[2]\n",
    "    max_bill = result[3]\n",
    "    print(f\"\"\"\n",
    "TOTAL SALE: {total_sales}\n",
    "AVERAGE SALE: {average_sales}\n",
    "MIN BILL: {min_bill}\n",
    "MAX BILL: {max_bill}\n",
    " \"\"\")\n",
    "except errors.Error as e:\n",
    "    print(e)\n",
    "\n",
    "# print(result.column_names)\n",
    "# for data in dataset:\n",
    "#     print(data)"
   ]
  },
  {
   "cell_type": "code",
   "execution_count": 62,
   "metadata": {},
   "outputs": [
    {
     "name": "stdout",
     "output_type": "stream",
     "text": [
      "\n",
      "15:00:00\n",
      "\n",
      "Vanessa McCarthy\n",
      "\n",
      "[Assigned to: Giorgos Dioudis Head Chef]\n",
      "\n",
      "\n",
      "17:30:00\n",
      "\n",
      "Marcos Romero\n",
      "\n",
      "[Assigned to: Fatma Kaya Assistant Chef]\n",
      "\n",
      "\n",
      "20:00:00\n",
      "\n",
      "Sam Jay\n",
      "\n",
      "[Assigned to: Fatma Kaya Assistant Chef]\n",
      "\n"
     ]
    }
   ],
   "source": [
    "order_status =\"\"\"\n",
    "select bookings.BookingSlot,concat(bookings.GuestFirstName,' ',bookings.GuestLastName) as name,employees.Name,employees.Role\n",
    "from bookings\n",
    "inner join employees\n",
    "on bookings.EmployeeID = employees.EmployeeID\n",
    "where lower(employees.Role) in ('assistant chef','head chef');\n",
    "\"\"\"\n",
    "try:\n",
    "    cursor.execute(order_status)\n",
    "    result = cursor.fetchall()\n",
    "    for data in result:\n",
    "        print(f\"\"\"\n",
    "{data[0]}\n",
    "\n",
    "{data[1]}\n",
    "\n",
    "[Assigned to: {data[2]} {data[3]}]\n",
    "\"\"\")\n",
    "except errors.Error as e:\n",
    "    print(e)"
   ]
  },
  {
   "cell_type": "code",
   "execution_count": null,
   "metadata": {},
   "outputs": [],
   "source": []
  }
 ],
 "metadata": {
  "kernelspec": {
   "display_name": "Python 3",
   "language": "python",
   "name": "python3"
  },
  "language_info": {
   "codemirror_mode": {
    "name": "ipython",
    "version": 3
   },
   "file_extension": ".py",
   "mimetype": "text/x-python",
   "name": "python",
   "nbconvert_exporter": "python",
   "pygments_lexer": "ipython3",
   "version": "3.8.8"
  }
 },
 "nbformat": 4,
 "nbformat_minor": 4
}
